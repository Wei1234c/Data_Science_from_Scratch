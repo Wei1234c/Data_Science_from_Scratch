{
 "cells": [
  {
   "cell_type": "markdown",
   "metadata": {},
   "source": [
    "# 18. [Neural Networks 神經網路](https://github.com/joelgrus/data-science-from-scratch/blob/master/code/neural_networks.py)"
   ]
  },
  {
   "cell_type": "code",
   "execution_count": 20,
   "metadata": {
    "collapsed": false
   },
   "outputs": [
    {
     "name": "stdout",
     "output_type": "stream",
     "text": [
      "Populating the interactive namespace from numpy and matplotlib\n"
     ]
    },
    {
     "name": "stderr",
     "output_type": "stream",
     "text": [
      "/home/wei/anaconda3/lib/python3.6/site-packages/IPython/core/magics/pylab.py:161: UserWarning: pylab import has clobbered these variables: ['diag', 'Circle', 'conjugate', 'roots', 'seterr', 'eye', 'solve', 'gamma', 'Polygon', 'test', 'sinh', 'power', 'zeros', 'transpose', 'interactive', 'prod', 'cosh', 'det', 'source', 'cbrt', 'vectorize', 'trace', 'mod', 'floor', 'cos', 'pi', 'sinc', 'invert', 'poly', 'nan', 'deprecated', 'var', 'plotting', 'sqrt', 'beta', 'tanh', 'take', 'reshape', 'multinomial', 'sin', 'log', 'sign', 'trunc', 'product', 'plot', 'add', 'flatten', 'exp', 'binomial', 'ones', 'tan', 'diff']\n",
      "`%matplotlib` prevents importing * from pylab and numpy\n",
      "  \"\\n`%matplotlib` prevents importing * from pylab and numpy\"\n"
     ]
    }
   ],
   "source": [
    "%pylab inline\n",
    "from sympy import *\n",
    "init_printing(use_unicode=True)\n",
    " \n",
    "from sympy.plotting import plot"
   ]
  },
  {
   "cell_type": "code",
   "execution_count": 4,
   "metadata": {
    "collapsed": true
   },
   "outputs": [],
   "source": [
    "# import matplotlib\n",
    "# import matplotlib.pyplot as plt"
   ]
  },
  {
   "cell_type": "code",
   "execution_count": 5,
   "metadata": {
    "collapsed": true
   },
   "outputs": [],
   "source": [
    "from __future__ import division\n",
    "from collections import Counter\n",
    "from functools import partial\n",
    "from linear_algebra import dot\n",
    "import math, random\n",
    "import matplotlib\n",
    "import matplotlib.pyplot as plt\n",
    "import json"
   ]
  },
  {
   "cell_type": "code",
   "execution_count": 6,
   "metadata": {
    "collapsed": false
   },
   "outputs": [
    {
     "data": {
      "image/png": "[encoded data removed]",
      "text/plain": [
       "<matplotlib.figure.Figure at 0x7fdbd2da3780>"
      ]
     },
     "metadata": {},
     "output_type": "display_data"
    }
   ],
   "source": [
    "def step_function(x):\n",
    "    return 1 if x >= 0 else 0\n",
    "\n",
    "x = np.linspace(-.5, .5, 100)\n",
    "plt.plot(x, list(map(step_function, x)))\n",
    "plt.axis('equal');"
   ]
  },
  {
   "cell_type": "code",
   "execution_count": 7,
   "metadata": {
    "collapsed": false
   },
   "outputs": [
    {
     "name": "stdout",
     "output_type": "stream",
     "text": [
      "dot(weights, x) + bias: 1\n"
     ]
    },
    {
     "data": {
      "image/png": "[encoded data removed]",
      "text/latex": [
       "$$1$$"
      ],
      "text/plain": [
       "1"
      ]
     },
     "execution_count": 7,
     "metadata": {},
     "output_type": "execute_result"
    }
   ],
   "source": [
    "def perceptron_output(weights, bias, x):\n",
    "    \"\"\"returns 1 if the perceptron 'fires', 0 if not\"\"\"\n",
    "    return step_function(dot(weights, x) + bias)\n",
    "\n",
    "weights = [2, 2]\n",
    "bias = -3\n",
    "x = [1, 1]\n",
    "\n",
    "print('dot(weights, x) + bias:', dot(weights, x) + bias)\n",
    "perceptron_output(weights, bias, x)"
   ]
  },
  {
   "cell_type": "code",
   "execution_count": 8,
   "metadata": {
    "collapsed": false
   },
   "outputs": [
    {
     "data": {
      "image/png": "[encoded data removed]",
      "text/plain": [
       "<matplotlib.figure.Figure at 0x7fdbd0948e80>"
      ]
     },
     "metadata": {},
     "output_type": "display_data"
    }
   ],
   "source": [
    "def sigmoid(t):\n",
    "    return 1 / (1 + math.exp(-t))\n",
    "\n",
    "x = np.linspace(-10, 10, 100)\n",
    "plt.plot(x, list(map(sigmoid, x)))\n",
    "plt.plot(x, list(map(step_function, x)), '--'); "
   ]
  },
  {
   "cell_type": "code",
   "execution_count": 11,
   "metadata": {
    "collapsed": false
   },
   "outputs": [
    {
     "data": {
      "image/png": "[encoded data removed]",
      "text/latex": [
       "$$0.9820137900379085$$"
      ],
      "text/plain": [
       "0.9820137900379085"
      ]
     },
     "execution_count": 11,
     "metadata": {},
     "output_type": "execute_result"
    }
   ],
   "source": [
    "def neuron_output(weights, inputs):\n",
    "    return sigmoid(dot(weights, inputs))\n",
    "\n",
    "weights = [2, 2] \n",
    "x = [1, 1]\n",
    "\n",
    "neuron_output(weights, x)"
   ]
  },
  {
   "cell_type": "code",
   "execution_count": 12,
   "metadata": {
    "collapsed": false
   },
   "outputs": [],
   "source": [
    "def feed_forward(neural_network, input_vector):\n",
    "    \"\"\"takes in a neural network (represented as a list of lists of lists of weights)\n",
    "    and returns the output from forward-propagating the input\"\"\"\n",
    "\n",
    "    outputs = []\n",
    "\n",
    "    for layer in neural_network:\n",
    "\n",
    "        input_with_bias = input_vector + [1]             # add a bias input\n",
    "        output = [neuron_output(neuron, input_with_bias) # compute the output \n",
    "                  for neuron in layer]                   # for this layer\n",
    "                    # 這邊的 \"neuron\" 代表的 其實是一組 weight        \n",
    "        outputs.append(output)                           # and remember it\n",
    "\n",
    "        # the input to the next layer is the output of this one\n",
    "        input_vector = output\n",
    "\n",
    "    return outputs"
   ]
  },
  {
   "cell_type": "code",
   "execution_count": 13,
   "metadata": {
    "collapsed": false
   },
   "outputs": [
    {
     "name": "stdout",
     "output_type": "stream",
     "text": [
      "0 0 [9.38314668300676e-14]\n",
      "0 1 [0.9999999999999059]\n",
      "1 0 [0.9999999999999059]\n",
      "1 1 [9.383146683006828e-14]\n"
     ]
    }
   ],
   "source": [
    "xor_network = [# 隱藏層\n",
    "                [\n",
    "                    [20, 20, -30],  # AND 神經元 的 weights 陣列\n",
    "                    [20, 20, -10]   # OR  神經元 的 weights 陣列\n",
    "                ], \n",
    "                 # 輸出層\n",
    "                [\n",
    "                    [-60, 60, -30]  # \"第二輸入 AND NOT 第一輸入\" 神經元 的 weights 陣列\n",
    "                ]\n",
    "              ] \n",
    "\n",
    "# 驗證 XOR gate 的特性\n",
    "for x in [0, 1]:\n",
    "    for y in [0, 1]:\n",
    "        print(x, y , feed_forward(xor_network, [x, y])[-1])"
   ]
  },
  {
   "cell_type": "code",
   "execution_count": 94,
   "metadata": {
    "collapsed": false
   },
   "outputs": [
    {
     "data": {
      "image/png": "[encoded data removed]",
      "text/plain": [
       "<matplotlib.figure.Figure at 0x7fdbd072fb38>"
      ]
     },
     "metadata": {},
     "output_type": "display_data"
    },
    {
     "data": {
      "image/png": "[encoded data removed]",
      "text/latex": [
       "$$\\frac{1}{1 + e^{- t}}$$"
      ],
      "text/plain": [
       "   1   \n",
       "───────\n",
       "     -t\n",
       "1 + ℯ  "
      ]
     },
     "execution_count": 94,
     "metadata": {},
     "output_type": "execute_result"
    }
   ],
   "source": [
    "# sigmod 的函數\n",
    "\n",
    "t = symbols('t', real = True)\n",
    "expr_sigmoid = 1 / (1 + exp(-t))\n",
    "# expr_sigmoid = simplify(expr_sigmoid)\n",
    "plot(expr_sigmoid, (t, -5, 5));\n",
    "expr_sigmoid"
   ]
  },
  {
   "cell_type": "code",
   "execution_count": 89,
   "metadata": {
    "collapsed": false
   },
   "outputs": [
    {
     "data": {
      "image/png": "[encoded data removed]",
      "text/plain": [
       "<matplotlib.figure.Figure at 0x7fdbd0948eb8>"
      ]
     },
     "metadata": {},
     "output_type": "display_data"
    },
    {
     "data": {
      "image/png": "[encoded data removed]",
      "text/latex": [
       "$$\\frac{e^{t}}{\\left(e^{t} + 1\\right)^{2}}$$"
      ],
      "text/plain": [
       "     t   \n",
       "    ℯ    \n",
       "─────────\n",
       "        2\n",
       "⎛ t    ⎞ \n",
       "⎝ℯ  + 1⎠ "
      ]
     },
     "execution_count": 89,
     "metadata": {},
     "output_type": "execute_result"
    }
   ],
   "source": [
    "# sigmoid 的導函數 \n",
    "    \n",
    "expr_simoid_prime = Derivative(expr_sigmoid, t).doit()\n",
    "expr_simoid_prime = simplify(expr_simoid_prime)\n",
    "plot(expr_simoid_prime, (t, -5, 5));\n",
    "expr_simoid_prime"
   ]
  },
  {
   "cell_type": "code",
   "execution_count": 97,
   "metadata": {
    "collapsed": false
   },
   "outputs": [
    {
     "data": {
      "image/png": "[encoded data removed]",
      "text/plain": [
       "<matplotlib.figure.Figure at 0x7fdbd04b5a90>"
      ]
     },
     "metadata": {},
     "output_type": "display_data"
    },
    {
     "data": {
      "image/png": "[encoded data removed]",
      "text/latex": [
       "$$\\left ( e^{- t}, \\quad \\left(1 + e^{- t}\\right)^{2}, \\quad \\frac{e^{t}}{\\left(e^{t} + 1\\right)^{2}}\\right )$$"
      ],
      "text/plain": [
       "⎛              2       t   ⎞\n",
       "⎜ -t  ⎛     -t⎞       ℯ    ⎟\n",
       "⎜ℯ  , ⎝1 + ℯ  ⎠ , ─────────⎟\n",
       "⎜                         2⎟\n",
       "⎜                 ⎛ t    ⎞ ⎟\n",
       "⎝                 ⎝ℯ  + 1⎠ ⎠"
      ]
     },
     "execution_count": 97,
     "metadata": {},
     "output_type": "execute_result"
    }
   ],
   "source": [
    "# sigmoid 的導函數 = (1 - sigmoid) * sigmoid\n",
    "\n",
    "# expr_nu = (1 / expr_sigmoid) - 1 \n",
    "expr_nu = (1 - expr_sigmoid) / expr_sigmoid\n",
    "expr_nu = simplify(expr_nu)\n",
    "\n",
    "expr_de = (1 / expr_sigmoid)**2\n",
    "expr_de = 1 / expr_sigmoid**2\n",
    "\n",
    "expr = expr_nu / expr_de\n",
    "expr = (1 - expr_sigmoid) * expr_sigmoid  # sigmoid 的導函數 = (1 - sigmoid) * sigmoid\n",
    "expr = simplify(expr)\n",
    "\n",
    "plot(expr, (t, -5, 5));\n",
    "expr_nu, expr_de, expr"
   ]
  },
  {
   "cell_type": "code",
   "execution_count": 98,
   "metadata": {
    "collapsed": false
   },
   "outputs": [
    {
     "data": {
      "image/png": "[encoded data removed]",
      "text/plain": [
       "<matplotlib.figure.Figure at 0x7fdbd0829f60>"
      ]
     },
     "metadata": {},
     "output_type": "display_data"
    },
    {
     "data": {
      "image/png": "[encoded data removed]",
      "text/latex": [
       "$$\\frac{e^{t}}{\\left(e^{t} + 1\\right)^{2}}$$"
      ],
      "text/plain": [
       "     t   \n",
       "    ℯ    \n",
       "─────────\n",
       "        2\n",
       "⎛ t    ⎞ \n",
       "⎝ℯ  + 1⎠ "
      ]
     },
     "execution_count": 98,
     "metadata": {},
     "output_type": "execute_result"
    }
   ],
   "source": [
    "# sigmoid 的導函數 = (1 - sigmoid) * sigmoid\n",
    "\n",
    "plot(expr, (t, -5, 5));\n",
    "simplify((expr_sigmoid) * (1- expr_sigmoid))"
   ]
  },
  {
   "cell_type": "code",
   "execution_count": 119,
   "metadata": {
    "collapsed": true
   },
   "outputs": [],
   "source": [
    "def backpropagate(network, input_vector, target):\n",
    "\n",
    "    # input_vector 經過 network 之後，hidden layer 和 output layer 的輸出\n",
    "    hidden_outputs, outputs = feed_forward(network, input_vector)\n",
    "    \n",
    "    # the output * (1 - output) is from the derivative of sigmoid\n",
    "    # output * (1 - output) 是來自於 sigmoid 的導函數\n",
    "    # sigmoid 的導函數 = (1 - sigmoid) * sigmoid\n",
    "    # deltas = (output layer 每個 neuron 的 output 和 target 的誤差) * sigmoid 的導數(gradient)\n",
    "    # 單單這一次循環，經過修正 weight之後，output layer 的 raw輸出 應該要有的修正量\n",
    "    # (output * (1 - output)) 已知的情況下: \n",
    "    #   (output - target[i])越大，表示 output layer 的 raw輸出 偏離應有的值越多，\n",
    "    #   因此，以 (output * (1 - output)) * (output - target[i]) 求出 output layer 的 raw輸出 應該要有的修正量\n",
    "    # output_deltas: output layer 的 raw輸出 應該要有的修正量\n",
    "    output_deltas = [(output * (1 - output)) * (output - target[i])\n",
    "                     for i, output in enumerate(outputs)]\n",
    "                     \n",
    "    # adjust weights for output layer (network[-1])\n",
    "    # 調整由 hidden layer 到 output layer 的 weights，一次一個神經元\n",
    "    for i, output_neuron in enumerate(network[-1]):\n",
    "        for j, hidden_output in enumerate(hidden_outputs + [1]):\n",
    "            # 調整第 j 個權重值，根據此神經元的 delta，以及它的第 j 個輸入\n",
    "            # output_neuron的 output_neuron[j] 這個 weight，該有的調整量 =  - output_deltas[i] * hidden_output\n",
    "            # weight_delta = - output_deltas[i] * hidden_output\n",
    "            # weight_delta / hidden_output = - output_deltas[i] \n",
    "            # output_deltas[i] 代表 output layer 的 raw輸出 應該要有的修正量:\n",
    "            #   如果 hidden_output 已知，output_deltas[i] 越大，則代表 output_neuron[j] 這個 weight 該有的調整量越大\n",
    "            #   如果 output_deltas[i] 已知，hidden_output 越大，則代表 output_neuron[j] 這個 weight 越重要，則該有的調整量越大\n",
    "            output_neuron[j] -= output_deltas[i] * hidden_output\n",
    "\n",
    "    # back-propagate errors to hidden layer\n",
    "    # 反向傳播到 hidden layer\n",
    "    # output_deltas: output layer 的 raw輸出 應該要有的修正量\n",
    "    # hidden_layer 的輸出應該要調整\n",
    "    # 給定 output_deltas = (output layer 的 raw輸出 應該要有的修正量) 之下，\n",
    "    #   (hidden layer sigmoid 輸出的誤差量) = (dot(output_deltas, [n[i] for n in network[-1]]))\n",
    "    #   一個 hidden layer 的神經元 H_j，其 sigmoid輸出的誤差 乘上 output layer 神經元上的 weights 之後，造成 output_deltas\n",
    "    #   所以 H_j sigmoid輸出的誤差 = dot(output_deltas, output layer 神經元上的 weights) = (dot(output_deltas, [n[i] for n in network[-1]]))\n",
    "    乘上 output layer 各個神經元上對應 weight[j]\n",
    "    hidden_deltas = [(hidden_output * (1 - hidden_output)) * dot(output_deltas, [n[i] for n in network[-1]]) \n",
    "                     for i, hidden_output in enumerate(hidden_outputs)]\n",
    "\n",
    "    # adjust weights for hidden layer (network[0])\n",
    "    # 調整由 input layer 到 hidden layer 的 weights，一次一個神經元\n",
    "    for i, hidden_neuron in enumerate(network[0]):\n",
    "        for j, input in enumerate(input_vector + [1]):\n",
    "            hidden_neuron[j] -= hidden_deltas[i] * input"
   ]
  },
  {
   "cell_type": "code",
   "execution_count": 105,
   "metadata": {
    "collapsed": false
   },
   "outputs": [],
   "source": [
    "def show_weights(network, neuron_idx, ax = None):\n",
    "    weights = network[0][neuron_idx]\n",
    "    abs_weights = list(map(abs, weights))\n",
    "\n",
    "    grid = [abs_weights[row:(row+5)] # turn the weights into a 5x5 grid\n",
    "            for row in range(0,25,5)] # [weights[0:5], ..., weights[20:25]]\n",
    "\n",
    "    if ax is None: ax = plt.gca() # to use hatching, we'll need the axis\n",
    "\n",
    "    ax.imshow(grid, # here same as plt.imshow\n",
    "              cmap=matplotlib.cm.binary, # use white-black color scale\n",
    "              interpolation='none') # plot blocks as blocks\n",
    "\n",
    "    # cross-hatch the negative weights\n",
    "    for i in range(5): # row\n",
    "        for j in range(5): # column\n",
    "            if weights[5*i + j] < 0: # row i, column j = weights[5*i + j]\n",
    "                # add black and white hatches, so visible whether dark or light\n",
    "                ax.add_patch(patch(j, i, '/', \"white\"))\n",
    "                ax.add_patch(patch(j, i, '\\\\', \"black\"))"
   ]
  },
  {
   "cell_type": "code",
   "execution_count": 106,
   "metadata": {
    "collapsed": true
   },
   "outputs": [],
   "source": [
    "def patch(x, y, hatch, color):\n",
    "    \"\"\"return a matplotlib 'patch' object with the specified\n",
    "    location, crosshatch pattern, and color\"\"\"\n",
    "    return matplotlib.patches.Rectangle((x - 0.5, y - 0.5), 1, 1,\n",
    "                                        hatch=hatch, fill=False, color=color)"
   ]
  },
  {
   "cell_type": "code",
   "execution_count": 107,
   "metadata": {
    "collapsed": false
   },
   "outputs": [],
   "source": [
    "raw_digits = [\n",
    "      \"\"\"11111\n",
    "         1...1\n",
    "         1...1\n",
    "         1...1\n",
    "         11111\"\"\",\n",
    "\n",
    "      \"\"\"..1..\n",
    "         ..1..\n",
    "         ..1..\n",
    "         ..1..\n",
    "         ..1..\"\"\",\n",
    "\n",
    "      \"\"\"11111\n",
    "         ....1\n",
    "         11111\n",
    "         1....\n",
    "         11111\"\"\",\n",
    "\n",
    "      \"\"\"11111\n",
    "         ....1\n",
    "         11111\n",
    "         ....1\n",
    "         11111\"\"\",     \n",
    "\n",
    "      \"\"\"1...1\n",
    "         1...1\n",
    "         11111\n",
    "         ....1\n",
    "         ....1\"\"\",             \n",
    "\n",
    "      \"\"\"11111\n",
    "         1....\n",
    "         11111\n",
    "         ....1\n",
    "         11111\"\"\",   \n",
    "\n",
    "      \"\"\"11111\n",
    "         1....\n",
    "         11111\n",
    "         1...1\n",
    "         11111\"\"\",             \n",
    "\n",
    "      \"\"\"11111\n",
    "         ....1\n",
    "         ....1\n",
    "         ....1\n",
    "         ....1\"\"\",\n",
    "\n",
    "      \"\"\"11111\n",
    "         1...1\n",
    "         11111\n",
    "         1...1\n",
    "         11111\"\"\",    \n",
    "\n",
    "      \"\"\"11111\n",
    "         1...1\n",
    "         11111\n",
    "         ....1\n",
    "         11111\"\"\"]     \n",
    "\n",
    "# raw_digits"
   ]
  },
  {
   "cell_type": "code",
   "execution_count": 108,
   "metadata": {
    "collapsed": false
   },
   "outputs": [],
   "source": [
    "# 把 raw_digits 字串 轉換為 0/1 的陣列\n",
    "\n",
    "def make_digit(raw_digit):\n",
    "    return [1 if c == '1' else 0\n",
    "            for row in raw_digit.split(\"\\n\")\n",
    "            for c in row.strip()]\n",
    "\n",
    "inputs = list(map(make_digit, raw_digits)) "
   ]
  },
  {
   "cell_type": "code",
   "execution_count": 109,
   "metadata": {
    "collapsed": false
   },
   "outputs": [
    {
     "name": "stdout",
     "output_type": "stream",
     "text": [
      "[1, 0, 0, 0, 0, 0, 0, 0, 0, 0]\n",
      "[0, 1, 0, 0, 0, 0, 0, 0, 0, 0]\n",
      "[0, 0, 1, 0, 0, 0, 0, 0, 0, 0]\n",
      "[0, 0, 0, 1, 0, 0, 0, 0, 0, 0]\n",
      "[0, 0, 0, 0, 1, 0, 0, 0, 0, 0]\n",
      "[0, 0, 0, 0, 0, 1, 0, 0, 0, 0]\n",
      "[0, 0, 0, 0, 0, 0, 1, 0, 0, 0]\n",
      "[0, 0, 0, 0, 0, 0, 0, 1, 0, 0]\n",
      "[0, 0, 0, 0, 0, 0, 0, 0, 1, 0]\n",
      "[0, 0, 0, 0, 0, 0, 0, 0, 0, 1]\n"
     ]
    }
   ],
   "source": [
    "# 標準答案\n",
    "\n",
    "targets = [[1 if i == j else 0 for i in range(10)]\n",
    "           for j in range(10)]\n",
    "\n",
    "for t in targets:\n",
    "    print(t)"
   ]
  },
  {
   "cell_type": "code",
   "execution_count": 110,
   "metadata": {
    "collapsed": false
   },
   "outputs": [
    {
     "data": {
      "image/png": "[encoded data removed]",
      "text/latex": [
       "$$\\left ( 5, \\quad 26\\right )$$"
      ],
      "text/plain": [
       "(5, 26)"
      ]
     },
     "execution_count": 110,
     "metadata": {},
     "output_type": "execute_result"
    }
   ],
   "source": [
    "random.seed(0)   # to get repeatable results\n",
    "\n",
    "# 神經網路 的階層架構\n",
    "input_size = 25  # each input is a vector of length 25\n",
    "num_hidden = 5   # we'll have 5 neurons in the hidden layer\n",
    "output_size = 10 # we need 10 outputs for each input\n",
    "\n",
    "# 隱藏層的 weights\n",
    "# each hidden neuron has one weight per input, plus a bias weight\n",
    "hidden_layer = [[random.random() for __ in range(input_size + 1)]\n",
    "                for __ in range(num_hidden)]\n",
    "\n",
    "shape(hidden_layer)"
   ]
  },
  {
   "cell_type": "code",
   "execution_count": 111,
   "metadata": {
    "collapsed": false
   },
   "outputs": [
    {
     "data": {
      "image/png": "[encoded data removed]",
      "text/latex": [
       "$$\\left ( 10, \\quad 6\\right )$$"
      ],
      "text/plain": [
       "(10, 6)"
      ]
     },
     "execution_count": 111,
     "metadata": {},
     "output_type": "execute_result"
    }
   ],
   "source": [
    "# 輸出層的 weights\n",
    "# each output neuron has one weight per hidden neuron, plus a bias weight\n",
    "output_layer = [[random.random() for __ in range(num_hidden + 1)]\n",
    "                for __ in range(output_size)]\n",
    "\n",
    "shape(output_layer)"
   ]
  },
  {
   "cell_type": "code",
   "execution_count": 123,
   "metadata": {
    "collapsed": false
   },
   "outputs": [
    {
     "data": {
      "image/png": "[encoded data removed]",
      "text/latex": [
       "$$\\left [ \\left [ nan, \\quad nan, \\quad nan, \\quad nan, \\quad nan, \\quad nan\\right ], \\quad \\left [ nan, \\quad nan, \\quad nan, \\quad nan, \\quad nan, \\quad nan\\right ], \\quad \\left [ nan, \\quad nan, \\quad nan, \\quad nan, \\quad nan, \\quad nan\\right ], \\quad \\left [ nan, \\quad nan, \\quad nan, \\quad nan, \\quad nan, \\quad nan\\right ], \\quad \\left [ nan, \\quad nan, \\quad nan, \\quad nan, \\quad nan, \\quad nan\\right ], \\quad \\left [ nan, \\quad nan, \\quad nan, \\quad nan, \\quad nan, \\quad nan\\right ], \\quad \\left [ nan, \\quad nan, \\quad nan, \\quad nan, \\quad nan, \\quad nan\\right ], \\quad \\left [ nan, \\quad nan, \\quad nan, \\quad nan, \\quad nan, \\quad nan\\right ], \\quad \\left [ nan, \\quad nan, \\quad nan, \\quad nan, \\quad nan, \\quad nan\\right ], \\quad \\left [ nan, \\quad nan, \\quad nan, \\quad nan, \\quad nan, \\quad nan\\right ]\\right ]$$"
      ],
      "text/plain": [
       "[[nan, nan, nan, nan, nan, nan], [nan, nan, nan, nan, nan, nan], [nan, nan, na\n",
       "n, nan, nan, nan], [nan, nan, nan, nan, nan, nan], [nan, nan, nan, nan, nan, n\n",
       "an], [nan, nan, nan, nan, nan, nan], [nan, nan, nan, nan, nan, nan], [nan, nan\n",
       ", nan, nan, nan, nan], [nan, nan, nan, nan, nan, nan], [nan, nan, nan, nan, na\n",
       "n, nan]]"
      ]
     },
     "execution_count": 123,
     "metadata": {},
     "output_type": "execute_result"
    }
   ],
   "source": [
    "# 由 隱藏層、輸出層 所組成的 神經網路\n",
    "# the network starts out with random weights\n",
    "network = [hidden_layer, output_layer] "
   ]
  },
  {
   "cell_type": "code",
   "execution_count": 118,
   "metadata": {
    "collapsed": false
   },
   "outputs": [
    {
     "name": "stderr",
     "output_type": "stream",
     "text": [
      "/home/wei/anaconda3/lib/python3.6/site-packages/ipykernel/__main__.py:44: RuntimeWarning: divide by zero encountered in double_scalars\n"
     ]
    }
   ],
   "source": [
    "# 10,000 iterations seems enough to converge\n",
    "for __ in range(1000):  # 訓練 10000 個 iterations\n",
    "    for input_vector, target_vector in zip(inputs, targets):\n",
    "        # 使用 BP演算法 訓練神經網路\n",
    "        backpropagate(network, input_vector, target_vector)"
   ]
  },
  {
   "cell_type": "code",
   "execution_count": null,
   "metadata": {
    "collapsed": true
   },
   "outputs": [],
   "source": [
    "# with open('network.json', 'w') as f:\n",
    "#     json.dump(network, f)"
   ]
  },
  {
   "cell_type": "code",
   "execution_count": null,
   "metadata": {
    "collapsed": true
   },
   "outputs": [],
   "source": [
    "# with open('network.json', 'r') as f:\n",
    "#     network = json.load(f)"
   ]
  },
  {
   "cell_type": "code",
   "execution_count": 115,
   "metadata": {
    "collapsed": false
   },
   "outputs": [
    {
     "data": {
      "image/png": "[encoded data removed]",
      "text/plain": [
       "<matplotlib.figure.Figure at 0x7fdbd02b8d68>"
      ]
     },
     "metadata": {},
     "output_type": "display_data"
    }
   ],
   "source": [
    "# 觀察 hidden layer neurons 的 weights\n",
    "\n",
    "width = 2\n",
    "fig, axes = plt.subplots(num_hidden, 1, figsize = (width*1, width * num_hidden))\n",
    "\n",
    "for n in range(5):\n",
    "    ax = axes[n]\n",
    "    show_weights(network, n, ax)"
   ]
  },
  {
   "cell_type": "code",
   "execution_count": 116,
   "metadata": {
    "collapsed": false
   },
   "outputs": [
    {
     "name": "stdout",
     "output_type": "stream",
     "text": [
      "0 [0.79, 0.0, 0.0, 0.08, 0.22, 0.07, 0.0, 0.14, 0.02, 0.17]\n",
      "1 [0.0, 0.79, 0.11, 0.22, 0.01, 0.02, 0.0, 0.12, 0.0, 0.05]\n",
      "2 [0.0, 0.1, 0.87, 0.1, 0.01, 0.05, 0.06, 0.0, 0.09, 0.04]\n",
      "3 [0.01, 0.13, 0.02, 0.16, 0.02, 0.03, 0.0, 0.11, 0.01, 0.07]\n",
      "4 [0.14, 0.0, 0.0, 0.05, 0.17, 0.11, 0.05, 0.0, 0.1, 0.14]\n",
      "5 [0.02, 0.0, 0.01, 0.05, 0.11, 0.11, 0.1, 0.0, 0.16, 0.12]\n",
      "6 [0.01, 0.0, 0.06, 0.03, 0.12, 0.16, 0.42, 0.0, 0.44, 0.12]\n",
      "7 [0.09, 0.13, 0.0, 0.19, 0.03, 0.02, 0.0, 0.82, 0.0, 0.09]\n",
      "8 [0.01, 0.0, 0.05, 0.04, 0.11, 0.14, 0.31, 0.0, 0.36, 0.11]\n",
      "9 [0.07, 0.0, 0.0, 0.07, 0.1, 0.07, 0.01, 0.0, 0.04, 0.12]\n"
     ]
    }
   ],
   "source": [
    "def predict(input):\n",
    "    return feed_forward(network, input)[-1]  # 使用訓練好的 network 來辨識 input\n",
    "\n",
    "# 對所有的 inputs 輸出辨識 結果\n",
    "for i, input in enumerate(inputs):\n",
    "    outputs = predict(input)\n",
    "    print(i, [round(p,2) for p in outputs])"
   ]
  },
  {
   "cell_type": "code",
   "execution_count": null,
   "metadata": {
    "collapsed": false
   },
   "outputs": [],
   "source": [
    "# 辨識 臨時給定的 input\n",
    "\n",
    "print(\"\"\".@@@.\n",
    "...@@\n",
    ".@@@.\n",
    "...@@\n",
    ".@@@.\"\"\")\n",
    "print([round(x, 2) for x in\n",
    "       predict( [0,1,1,1,0,  # .@@@.\n",
    "                 0,0,0,1,1,  # ...@@\n",
    "                 0,1,1,1,0,  # .@@@.\n",
    "                 0,0,0,1,1,  # ...@@\n",
    "                 0,1,1,1,0]) # .@@@.\n",
    "      ]) "
   ]
  },
  {
   "cell_type": "code",
   "execution_count": null,
   "metadata": {
    "collapsed": false
   },
   "outputs": [],
   "source": [
    "# 辨識 臨時給定的 input\n",
    "\n",
    "print(\"\"\".@@@.\n",
    "@..@@\n",
    ".@@@.\n",
    "@..@@\n",
    ".@@@.\"\"\")\n",
    "print([round(x, 2) for x in \n",
    "       predict( [0,1,1,1,0,  # .@@@.\n",
    "                 1,0,0,1,1,  # @..@@\n",
    "                 0,1,1,1,0,  # .@@@.\n",
    "                 1,0,0,1,1,  # @..@@\n",
    "                 0,1,1,1,0]) # .@@@.\n",
    "      ])"
   ]
  }
 ],
 "metadata": {
  "kernelspec": {
   "display_name": "Python 3",
   "language": "python",
   "name": "python3"
  },
  "language_info": {
   "codemirror_mode": {
    "name": "ipython",
    "version": 3
   },
   "file_extension": ".py",
   "mimetype": "text/x-python",
   "name": "python",
   "nbconvert_exporter": "python",
   "pygments_lexer": "ipython3",
   "version": "3.6.0"
  }
 },
 "nbformat": 4,
 "nbformat_minor": 2
}
