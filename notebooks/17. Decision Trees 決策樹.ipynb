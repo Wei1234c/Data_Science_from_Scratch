{
 "cells": [
  {
   "cell_type": "markdown",
   "metadata": {},
   "source": [
    "# 17. [Decision Trees 決策樹](https://github.com/joelgrus/data-science-from-scratch/blob/master/code/decision_trees.py)"
   ]
  },
  {
   "cell_type": "code",
   "execution_count": 14,
   "metadata": {
    "collapsed": false
   },
   "outputs": [
    {
     "name": "stdout",
     "output_type": "stream",
     "text": [
      "Populating the interactive namespace from numpy and matplotlib\n"
     ]
    },
    {
     "name": "stderr",
     "output_type": "stream",
     "text": [
      "/home/wei/anaconda3/lib/python3.6/site-packages/IPython/core/magics/pylab.py:161: UserWarning: pylab import has clobbered these variables: ['random', 'entropy']\n",
      "`%matplotlib` prevents importing * from pylab and numpy\n",
      "  \"\\n`%matplotlib` prevents importing * from pylab and numpy\"\n"
     ]
    }
   ],
   "source": [
    "%pylab inline"
   ]
  },
  {
   "cell_type": "code",
   "execution_count": 15,
   "metadata": {
    "collapsed": true
   },
   "outputs": [],
   "source": [
    "from __future__ import division\n",
    "from collections import Counter, defaultdict\n",
    "from functools import partial\n",
    "import math, random\n",
    "from pprint import pprint"
   ]
  },
  {
   "cell_type": "markdown",
   "metadata": {},
   "source": [
    "## 每個事件本身的 訊息量 \n",
    "https://zh.wikipedia.org/wiki/%E7%86%B5_(%E4%BF%A1%E6%81%AF%E8%AE%BA)  \n",
    "\n",
    "如果有一個系統S內存在多個事件$S = {E_1,...,E_n}$，每個事件的機率分布$P = {p_1, ..., p_n}$，則每個事件本身的**訊息量**（資訊本體）為：  \n",
    "\n",
    "${\\displaystyle I_{e}=-\\log _{2}{p_{i}}} $ （對數以2為底，單位是位元（bit））  \n",
    "\n",
    "${\\displaystyle I_{e}=-\\ln {p_{i}}}$（對數以 ${\\displaystyle e}$ e為底，單位是納特/nats）  \n",
    "\n",
    "\n",
    "如英語有26個字母，假如每個字母在文章中出現次數平均的話，每個字母的訊息量為：  \n",
    "\n",
    "${\\displaystyle I_{e}=-\\log _{2}{1 \\over 26}=4.7}$  "
   ]
  },
  {
   "cell_type": "code",
   "execution_count": 16,
   "metadata": {
    "collapsed": false
   },
   "outputs": [
    {
     "name": "stdout",
     "output_type": "stream",
     "text": [
      "每個字母的訊息量 4.70043971814\n",
      "平均訊息量 (entropy) 4.70043971814\n"
     ]
    },
    {
     "data": {
      "image/png": "[encoded data removed]",
      "text/plain": [
       "<matplotlib.figure.Figure at 0x7fd734062048>"
      ]
     },
     "metadata": {},
     "output_type": "display_data"
    }
   ],
   "source": [
    "dice_points = range(1, 27)\n",
    "n = len(dice_points)\n",
    "p = 1/n \n",
    "print('每個字母的訊息量', -np.log2(p))\n",
    "print('平均訊息量 (entropy)', -np.log2(p) * n / n)\n",
    "plt.plot(dice_points, [-np.log2(p) for _ in dice_points]) \n",
    "plt.xlabel('p', fontsize = 12)\n",
    "plt.ylabel('information', fontsize = 12);"
   ]
  },
  {
   "cell_type": "markdown",
   "metadata": {},
   "source": [
    "### 事件的機率越小，訊息量越高; 機率 ＝ 1 （每次都發生）的事件，訊息量為 0"
   ]
  },
  {
   "cell_type": "code",
   "execution_count": 17,
   "metadata": {
    "collapsed": false
   },
   "outputs": [
    {
     "data": {
      "image/png": "[encoded data removed]",
      "text/plain": [
       "<matplotlib.figure.Figure at 0x7fd733fdb748>"
      ]
     },
     "metadata": {},
     "output_type": "display_data"
    }
   ],
   "source": [
    "p = np.linspace(0.001, 1, 100)\n",
    "plt.plot(p, -np.log2(p))  # 不同機率的事件的 訊息量 \n",
    "plt.xlabel('p', fontsize = 12)\n",
    "plt.ylabel('information', fontsize = 12);"
   ]
  },
  {
   "cell_type": "markdown",
   "metadata": {},
   "source": [
    "### 每個事件的 entropy (訊息量 期望值) = 機率 * 訊息量 "
   ]
  },
  {
   "cell_type": "code",
   "execution_count": 40,
   "metadata": {
    "collapsed": false
   },
   "outputs": [
    {
     "data": {
      "image/png": "[encoded data removed]",
      "text/plain": [
       "<matplotlib.figure.Figure at 0x7fd7342c9ac8>"
      ]
     },
     "metadata": {},
     "output_type": "display_data"
    }
   ],
   "source": [
    "p = np.linspace(0.001, 1, 100)\n",
    "plt.plot(p, -p*np.log2(p))  # 每個事件本身的 entropy\n",
    "plt.xlabel('p', fontsize = 12)\n",
    "plt.ylabel('entropy', fontsize = 12);"
   ]
  },
  {
   "cell_type": "markdown",
   "metadata": {},
   "source": [
    "## 熵是整個系統的**平均**消息量\n",
    "熵是整個系統的平均消息量，即：  \n",
    "\n",
    "${\\displaystyle H_{s}=\\sum _{i=1}^{n}p_{i}I_{e}=-\\sum _{i=1}^{n}p_{i}\\log _{2}p_{i}}$    "
   ]
  },
  {
   "cell_type": "markdown",
   "metadata": {},
   "source": [
    "### Entropy 是 每發生一個事件 資訊量的期望值  \n",
    "\n",
    "依據Boltzmann's H-theorem，夏農把隨機變量X的熵值 Η（希臘字母Eta）定義如下，其值域為{x1, ..., xn}：  \n",
    "\n",
    "${\\displaystyle \\mathrm {H} (X)=\\mathrm {E} [\\mathrm {I} (X)]=\\mathrm {E} [-\\ln(\\mathrm {P} (X))]}$   \n",
    "\n",
    "\n",
    "\n",
    "\n",
    "\n",
    "其中，P為X的機率質量函數（probability mass function），E為期望函數，而I(X)是X的資訊量（又稱為資訊本體）。I(X)本身是個隨機變數。  \n",
    "\n",
    "當取自有限的樣本時，熵的公式可以表示為：  \n",
    "\n",
    "${\\displaystyle \\mathrm {H} (X)=\\sum _{i}{\\mathrm {P} (x_{i})\\,\\mathrm {I} (x_{i})}=-\\sum _{i}{\\mathrm {P} (x_{i})\\log _{b}\\mathrm {P} (x_{i})}} $   "
   ]
  },
  {
   "cell_type": "code",
   "execution_count": 19,
   "metadata": {
    "collapsed": false
   },
   "outputs": [
    {
     "name": "stdout",
     "output_type": "stream",
     "text": [
      "整個系統的平均消息量 (熵) 4.70043971814\n"
     ]
    },
    {
     "data": {
      "image/png": "[encoded data removed]",
      "text/plain": [
       "<matplotlib.figure.Figure at 0x7fd7342f0be0>"
      ]
     },
     "metadata": {},
     "output_type": "display_data"
    }
   ],
   "source": [
    "dice_points = range(1, 27)\n",
    "n = len(dice_points)\n",
    "p = 1/n\n",
    "entropy = np.sum([-p * np.log2(p) for _ in dice_points])\n",
    "print('整個系統的平均消息量 (熵)', entropy)\n",
    "plt.plot(dice_points, [-p * np.log2(p) for _ in dice_points])  # 熵是整個系統的平均消息量\n",
    "plt.xlabel('p', fontsize = 12)\n",
    "plt.ylabel('entropy', fontsize = 12);"
   ]
  },
  {
   "cell_type": "code",
   "execution_count": 20,
   "metadata": {
    "collapsed": true
   },
   "outputs": [],
   "source": [
    "def entropy(class_probabilities):\n",
    "    \"\"\"given a list of class probabilities, compute the entropy\"\"\"\n",
    "    return sum(-p * math.log(p, 2) for p in class_probabilities if p) "
   ]
  },
  {
   "cell_type": "code",
   "execution_count": 21,
   "metadata": {
    "collapsed": false
   },
   "outputs": [
    {
     "data": {
      "text/plain": [
       "[0.175, 0.155, 0.185, 0.165, 0.15, 0.17]"
      ]
     },
     "execution_count": 21,
     "metadata": {},
     "output_type": "execute_result"
    }
   ],
   "source": [
    "def class_probabilities(labels):\n",
    "    total_count = len(labels)\n",
    "    return [count / total_count\n",
    "            for count in Counter(labels).values()]\n",
    "\n",
    "labels = [random.choice(list('abcdef')) for _ in range(200)]\n",
    "class_probabilities(labels)"
   ]
  },
  {
   "cell_type": "code",
   "execution_count": 22,
   "metadata": {
    "collapsed": false
   },
   "outputs": [
    {
     "data": {
      "text/plain": [
       "2.5813550590100536"
      ]
     },
     "execution_count": 22,
     "metadata": {},
     "output_type": "execute_result"
    }
   ],
   "source": [
    "random.seed(0)\n",
    "entropy(class_probabilities(labels))"
   ]
  },
  {
   "cell_type": "code",
   "execution_count": 23,
   "metadata": {
    "collapsed": false
   },
   "outputs": [
    {
     "data": {
      "text/plain": [
       "2.568046576571606"
      ]
     },
     "execution_count": 23,
     "metadata": {},
     "output_type": "execute_result"
    }
   ],
   "source": [
    "# 計算 一組 labeled_data 樣本的 entropy 值\n",
    "def data_entropy(labeled_data):        \n",
    "    labels = [label for _, label in labeled_data]\n",
    "    probabilities = class_probabilities(labels)\n",
    "    return entropy(probabilities)\n",
    "\n",
    "random.seed(0)\n",
    "labels = [random.choice(list('abcdef')) for _ in range(200)]\n",
    "data_entropy(enumerate(labels))"
   ]
  },
  {
   "cell_type": "code",
   "execution_count": 24,
   "metadata": {
    "collapsed": true
   },
   "outputs": [],
   "source": [
    "# Entropy of Partition 切分亂度\n",
    "def partition_entropy(subsets):\n",
    "    \"\"\"find the entropy from this partition of data into subsets\"\"\"\n",
    "    total_count = sum(len(subset) for subset in subsets)\n",
    "    \n",
    "    return sum( data_entropy(subset) * (len(subset) / total_count)\n",
    "                for subset in subsets )"
   ]
  },
  {
   "cell_type": "code",
   "execution_count": 25,
   "metadata": {
    "collapsed": false
   },
   "outputs": [
    {
     "data": {
      "text/plain": [
       "'Senior'"
      ]
     },
     "execution_count": 25,
     "metadata": {},
     "output_type": "execute_result"
    }
   ],
   "source": [
    "inputs = [\n",
    "    ({'level':'Senior','lang':'Java','tweets':'no','phd':'no'},   False),\n",
    "    ({'level':'Senior','lang':'Java','tweets':'no','phd':'yes'},  False),\n",
    "    ({'level':'Mid','lang':'Python','tweets':'no','phd':'no'},     True),\n",
    "    ({'level':'Junior','lang':'Python','tweets':'no','phd':'no'},  True),\n",
    "    ({'level':'Junior','lang':'R','tweets':'yes','phd':'no'},      True),\n",
    "    ({'level':'Junior','lang':'R','tweets':'yes','phd':'yes'},    False),\n",
    "    ({'level':'Mid','lang':'R','tweets':'yes','phd':'yes'},        True),\n",
    "    ({'level':'Senior','lang':'Python','tweets':'no','phd':'no'}, False),\n",
    "    ({'level':'Senior','lang':'R','tweets':'yes','phd':'no'},      True),\n",
    "    ({'level':'Junior','lang':'Python','tweets':'yes','phd':'no'}, True),\n",
    "    ({'level':'Senior','lang':'Python','tweets':'yes','phd':'yes'},True),\n",
    "    ({'level':'Mid','lang':'Python','tweets':'no','phd':'yes'},    True),\n",
    "    ({'level':'Mid','lang':'Java','tweets':'yes','phd':'no'},      True),\n",
    "    ({'level':'Junior','lang':'Python','tweets':'no','phd':'yes'},False)\n",
    "]\n",
    "\n",
    "x = inputs[0]\n",
    "attribute = 'level'\n",
    "x[0][attribute]"
   ]
  },
  {
   "cell_type": "code",
   "execution_count": 26,
   "metadata": {
    "collapsed": false
   },
   "outputs": [],
   "source": [
    "# 依據特定 key 切分群組\n",
    "def group_by(items, key_fn):\n",
    "    \"\"\"returns a defaultdict(list), where each input item \n",
    "    is in the list whose key is key_fn(item)\"\"\"\n",
    "    groups = defaultdict(list)\n",
    "    for item in items:\n",
    "        key = key_fn(item)\n",
    "        groups[key].append(item)\n",
    "    return groups\n",
    "\n",
    "# attribute = 'level'\n",
    "# pprint(group_by(inputs, lambda x: x[0][attribute]))"
   ]
  },
  {
   "cell_type": "code",
   "execution_count": 27,
   "metadata": {
    "collapsed": false
   },
   "outputs": [],
   "source": [
    "# 依據特定屬性做群組切分\n",
    "def partition_by(inputs, attribute):\n",
    "    \"\"\"returns a dict of inputs partitioned by the attribute\n",
    "    each input is a pair (attribute_dict, label)\"\"\"\n",
    "    return group_by(inputs, lambda x: x[0][attribute]) \n",
    "\n",
    "# attribute = 'level'\n",
    "# pprint(partition_by(inputs, attribute))"
   ]
  },
  {
   "cell_type": "code",
   "execution_count": 28,
   "metadata": {
    "collapsed": false
   },
   "outputs": [
    {
     "data": {
      "text/plain": [
       "0.6935361388961918"
      ]
     },
     "execution_count": 28,
     "metadata": {},
     "output_type": "execute_result"
    }
   ],
   "source": [
    "# 依據特定屬性切分之後的 切分亂度\n",
    "def partition_entropy_by(inputs,attribute):\n",
    "    \"\"\"computes the entropy corresponding to the given partition\"\"\"        \n",
    "    partitions = partition_by(inputs, attribute)\n",
    "    return partition_entropy(partitions.values())   \n",
    "\n",
    "attribute = 'level'\n",
    "partition_entropy_by(inputs, attribute)"
   ]
  },
  {
   "cell_type": "code",
   "execution_count": 29,
   "metadata": {
    "collapsed": true
   },
   "outputs": [],
   "source": [
    "# 在 tree 已經知道的情況下，對某個 input 做 True/False 的判斷\n",
    "# tree:\n",
    "# ('level',\n",
    "#  {None: True,\n",
    "#   'Junior': ('phd', {None: True, 'no': True, 'yes': False}),\n",
    "#   'Mid': True,\n",
    "#   'Senior': ('tweets', {None: False, 'no': False, 'yes': True})})\n",
    "\n",
    "def classify(tree, input):\n",
    "    \"\"\"classify the input using the given decision tree\"\"\"\n",
    "    \n",
    "    # if this is a leaf node, return its value\n",
    "    if tree in [True, False]:\n",
    "        return tree\n",
    "   \n",
    "    # otherwise find the correct subtree\n",
    "    attribute, subtree_dict = tree\n",
    "    \n",
    "    subtree_key = input.get(attribute)  # None if input is missing attribute\n",
    "\n",
    "    if subtree_key not in subtree_dict: # if no subtree for key,\n",
    "        subtree_key = None              # we'll use the None subtree\n",
    "    \n",
    "    subtree = subtree_dict[subtree_key] # choose the appropriate subtree\n",
    "    return classify(subtree, input)     # and use it to classify the input"
   ]
  },
  {
   "cell_type": "code",
   "execution_count": 30,
   "metadata": {
    "collapsed": false
   },
   "outputs": [],
   "source": [
    "def build_tree_id3(inputs, split_candidates=None):\n",
    "\n",
    "    # if this is our first pass, \n",
    "    # all keys of the first input are split candidates\n",
    "    if split_candidates is None:\n",
    "        split_candidates = inputs[0][0].keys()  # dict_keys(['level', 'lang', 'tweets', 'phd'])\n",
    "\n",
    "    # count Trues and Falses in the inputs\n",
    "    num_inputs = len(inputs)\n",
    "    num_trues = len([label for item, label in inputs if label])\n",
    "    num_falses = num_inputs - num_trues\n",
    "    \n",
    "    if num_trues == 0:                  # if only Falses are left\n",
    "        return False                    # return a \"False\" leaf\n",
    "        \n",
    "    if num_falses == 0:                 # if only Trues are left\n",
    "        return True                     # return a \"True\" leaf\n",
    "\n",
    "    if not split_candidates:            # if no split candidates left\n",
    "        return num_trues >= num_falses  # return the majority leaf\n",
    "                            \n",
    "    # otherwise, split on the best attribute\n",
    "    # 能獲得 最小切分亂度 的屬性\n",
    "    # 切分亂度最小，表示 下一個事件 資訊量的期望值最小，也就是 越能預測結果，越確定\n",
    "    best_attribute = min(split_candidates, key=partial(partition_entropy_by, inputs))\n",
    "\n",
    "    partitions = partition_by(inputs, best_attribute)\n",
    "    new_candidates = [a for a in split_candidates \n",
    "                      if a != best_attribute]\n",
    "    \n",
    "    # recursively build the subtrees\n",
    "    # 遞迴 建構子樹\n",
    "    subtrees = { attribute : build_tree_id3(subset, new_candidates)\n",
    "                 for attribute, subset in partitions.items() }\n",
    "\n",
    "    subtrees[None] = num_trues > num_falses # default case\n",
    "\n",
    "    return (best_attribute, subtrees)"
   ]
  },
  {
   "cell_type": "code",
   "execution_count": 31,
   "metadata": {
    "collapsed": true
   },
   "outputs": [],
   "source": [
    "# Random Forests\n",
    "# 可以用 bootstrap 重複取樣 產生不同的 決策數\n",
    "# bootstrap aggregating / bagging\n",
    "\n",
    "def forest_classify(trees, input):\n",
    "    votes = [classify(tree, input) for tree in trees]  # 每棵決策數 所做出的判斷\n",
    "    vote_counts = Counter(votes)  # 計數\n",
    "    return vote_counts.most_common(1)[0][0]  # 票選結果"
   ]
  },
  {
   "cell_type": "code",
   "execution_count": 59,
   "metadata": {
    "collapsed": false
   },
   "outputs": [],
   "source": [
    "inputs = [\n",
    "    ({'level':'Senior','lang':'Java','tweets':'no','phd':'no'},   False),\n",
    "    ({'level':'Senior','lang':'Java','tweets':'no','phd':'yes'},  False),\n",
    "    ({'level':'Mid','lang':'Python','tweets':'no','phd':'no'},     True),\n",
    "    ({'level':'Junior','lang':'Python','tweets':'no','phd':'no'},  True),\n",
    "    ({'level':'Junior','lang':'R','tweets':'yes','phd':'no'},      True),\n",
    "    ({'level':'Junior','lang':'R','tweets':'yes','phd':'yes'},    False),\n",
    "    ({'level':'Mid','lang':'R','tweets':'yes','phd':'yes'},        True),\n",
    "    ({'level':'Senior','lang':'Python','tweets':'no','phd':'no'}, False),\n",
    "    ({'level':'Senior','lang':'R','tweets':'yes','phd':'no'},      True),\n",
    "    ({'level':'Junior','lang':'Python','tweets':'yes','phd':'no'}, True),\n",
    "    ({'level':'Senior','lang':'Python','tweets':'yes','phd':'yes'},True),\n",
    "    ({'level':'Mid','lang':'Python','tweets':'no','phd':'yes'},    True),\n",
    "    ({'level':'Mid','lang':'Java','tweets':'yes','phd':'no'},      True),\n",
    "    ({'level':'Junior','lang':'Python','tweets':'no','phd':'yes'},False)\n",
    "]"
   ]
  },
  {
   "cell_type": "code",
   "execution_count": 61,
   "metadata": {
    "collapsed": false
   },
   "outputs": [
    {
     "data": {
      "text/plain": [
       "dict_keys(['level', 'lang', 'tweets', 'phd'])"
      ]
     },
     "execution_count": 61,
     "metadata": {},
     "output_type": "execute_result"
    }
   ],
   "source": [
    "inputs[0][0].keys()"
   ]
  },
  {
   "cell_type": "code",
   "execution_count": 60,
   "metadata": {
    "collapsed": false
   },
   "outputs": [
    {
     "name": "stdout",
     "output_type": "stream",
     "text": [
      "level 0.6935361388961918\n",
      "lang 0.8601317128547441\n",
      "tweets 0.7884504573082896\n",
      "phd 0.8921589282623617\n",
      "\n"
     ]
    }
   ],
   "source": [
    "for key in ['level','lang','tweets','phd']:\n",
    "    print(key, partition_entropy_by(inputs, key))\n",
    "print()\n",
    "\n",
    "# level 的切紛亂度最低，所以依據 level 再切分子樹"
   ]
  },
  {
   "cell_type": "code",
   "execution_count": 58,
   "metadata": {
    "collapsed": false
   },
   "outputs": [
    {
     "name": "stdout",
     "output_type": "stream",
     "text": [
      "lang 0.9509775004326937\n",
      "tweets 0.9509775004326937\n",
      "phd 0.0\n",
      "\n"
     ]
    }
   ],
   "source": [
    "# level = 'Junior' 的情況下計算各種切分方式的切分亂度\n",
    "\n",
    "junior_inputs = [(input, label)\n",
    "                 for input, label in inputs if input[\"level\"] == \"Junior\"]\n",
    "\n",
    "for key in ['lang', 'tweets', 'phd']:\n",
    "    print(key, partition_entropy_by(junior_inputs, key))\n",
    "print()\n",
    "\n",
    "# phd 的切分段度最低"
   ]
  },
  {
   "cell_type": "code",
   "execution_count": 57,
   "metadata": {
    "collapsed": false
   },
   "outputs": [
    {
     "name": "stdout",
     "output_type": "stream",
     "text": [
      "lang 0.0\n",
      "tweets 0.0\n",
      "phd 0.0\n",
      "\n"
     ]
    }
   ],
   "source": [
    "# level = 'Mid' 的情況下計算各種切分方式的切分亂度\n",
    "\n",
    "mid_inputs = [(input, label)\n",
    "              for input, label in inputs if input[\"level\"] == \"Mid\"]\n",
    "\n",
    "for key in ['lang', 'tweets', 'phd']:\n",
    "    print(key, partition_entropy_by(mid_inputs, key))\n",
    "print()\n",
    "\n",
    "# 0 亂度"
   ]
  },
  {
   "cell_type": "code",
   "execution_count": 46,
   "metadata": {
    "collapsed": false
   },
   "outputs": [
    {
     "name": "stdout",
     "output_type": "stream",
     "text": [
      "lang 0.4\n",
      "tweets 0.0\n",
      "phd 0.9509775004326937\n",
      "\n"
     ]
    }
   ],
   "source": [
    "# level = 'Senior' 的情況下計算各種切分方式的切分亂度\n",
    "\n",
    "senior_inputs = [(input, label)\n",
    "                 for input, label in inputs if input[\"level\"] == \"Senior\"]\n",
    "\n",
    "for key in ['lang', 'tweets', 'phd']:\n",
    "    print(key, partition_entropy_by(senior_inputs, key))\n",
    "print()\n",
    "\n",
    "# tweets 的切分段度最低"
   ]
  },
  {
   "cell_type": "code",
   "execution_count": 52,
   "metadata": {
    "collapsed": false
   },
   "outputs": [
    {
     "name": "stdout",
     "output_type": "stream",
     "text": [
      "building the tree\n",
      "('level',\n",
      " {None: True,\n",
      "  'Junior': ('phd', {None: True, 'no': True, 'yes': False}),\n",
      "  'Mid': True,\n",
      "  'Senior': ('tweets', {None: False, 'no': False, 'yes': True})})\n"
     ]
    }
   ],
   "source": [
    "# 使用 ID3 的演算法 建構決策樹\n",
    "\n",
    "print(\"building the tree\")\n",
    "tree = build_tree_id3(inputs)\n",
    "pprint(tree)"
   ]
  },
  {
   "cell_type": "code",
   "execution_count": 54,
   "metadata": {
    "collapsed": false
   },
   "outputs": [
    {
     "name": "stdout",
     "output_type": "stream",
     "text": [
      "Junior / Java / tweets / no phd True\n"
     ]
    }
   ],
   "source": [
    "# 判斷一個 input 的結果是 True 或 False\n",
    "\n",
    "print(\"Junior / Java / tweets / no phd\",  \n",
    "      classify(tree, \n",
    "               {\"level\" : \"Junior\", \n",
    "                \"lang\" : \"Java\", \n",
    "                \"tweets\" : \"yes\", \n",
    "                \"phd\" : \"no\"}\n",
    "              )\n",
    "     )"
   ]
  },
  {
   "cell_type": "code",
   "execution_count": 55,
   "metadata": {
    "collapsed": false
   },
   "outputs": [
    {
     "name": "stdout",
     "output_type": "stream",
     "text": [
      "Junior / Java / tweets / phd False\n"
     ]
    }
   ],
   "source": [
    "# 判斷一個 input 的結果是 True 或 False\n",
    "\n",
    "print(\"Junior / Java / tweets / phd\", \n",
    "      classify(tree, \n",
    "               {\"level\" : \"Junior\", \n",
    "                \"lang\" : \"Java\", \n",
    "                \"tweets\" : \"yes\", \n",
    "                \"phd\" : \"yes\"} \n",
    "              )\n",
    "     )"
   ]
  },
  {
   "cell_type": "code",
   "execution_count": 56,
   "metadata": {
    "collapsed": false
   },
   "outputs": [
    {
     "name": "stdout",
     "output_type": "stream",
     "text": [
      "Intern True\n",
      "Senior False\n"
     ]
    }
   ],
   "source": [
    "# 判斷一個 input 的結果是 True 或 False\n",
    "\n",
    "print(\"Intern\", classify(tree, { \"level\" : \"Intern\" } ))\n",
    "print(\"Senior\", classify(tree, { \"level\" : \"Senior\" } ))"
   ]
  }
 ],
 "metadata": {
  "kernelspec": {
   "display_name": "Python 3",
   "language": "python",
   "name": "python3"
  },
  "language_info": {
   "codemirror_mode": {
    "name": "ipython",
    "version": 3
   },
   "file_extension": ".py",
   "mimetype": "text/x-python",
   "name": "python",
   "nbconvert_exporter": "python",
   "pygments_lexer": "ipython3",
   "version": "3.6.0"
  }
 },
 "nbformat": 4,
 "nbformat_minor": 2
}
